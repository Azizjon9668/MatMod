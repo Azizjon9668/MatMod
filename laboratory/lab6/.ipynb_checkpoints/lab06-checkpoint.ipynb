{
 "cells": [
  {
   "cell_type": "code",
   "execution_count": null,
   "metadata": {},
   "outputs": [],
   "source": [
    "import numpy as np\n",
    "from scipy. integrate import odeint\n",
    "import matplotlib.pyplot as plt\n",
    "import math\n",
    "\n",
    "n = 12800\n",
    "I0 = 180 \n",
    "R0 = 58 \n",
    "\n",
    "S0 = N0-I(0)- R(0)\n",
    "\n",
    "a = 0.07\n",
    "b =0.04\n",
    "\n",
    "x0 = [S0, I0, R0]\n",
    "\n",
    "def syst(y,t):\n",
    "    y1,y2,y3=y\n",
    "    return [0,-b*y2,b*y2]\n",
    "\n",
    "def syst2 ,t):\n",
    "    y1,y2,y3=y\n",
    "    return [-a*y1,a*y1-b*y2, b*y2]\n",
    "\n",
    "t =np.arange(0,200,0.01)\n",
    "\n",
    "y1 = odient(syst,x0,t)\n",
    "y1s=y1[:,0]\n",
    "y1iy1[:,0]\n",
    "y1ry1[:,0]\n",
    "\n",
    "\n",
    "fig = plt.figure(feca cokor='white')\n",
    "\n"
   ]
  }
 ],
 "metadata": {
  "kernelspec": {
   "display_name": "Python 3",
   "language": "python",
   "name": "python3"
  },
  "language_info": {
   "codemirror_mode": {
    "name": "ipython",
    "version": 3
   },
   "file_extension": ".py",
   "mimetype": "text/x-python",
   "name": "python",
   "nbconvert_exporter": "python",
   "pygments_lexer": "ipython3",
   "version": "3.9.2"
  }
 },
 "nbformat": 4,
 "nbformat_minor": 4
}
