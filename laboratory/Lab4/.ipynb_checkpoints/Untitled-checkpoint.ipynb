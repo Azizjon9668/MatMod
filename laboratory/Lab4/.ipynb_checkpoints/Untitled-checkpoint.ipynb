{
 "cells": [
  {
   "cell_type": "code",
   "execution_count": null,
   "id": "modified-contrary",
   "metadata": {},
   "outputs": [],
   "source": [
    "import numpy as np\n",
    "from scipy. integrate import odeint\n",
    "import matplotlib.pyplot as plt\n",
    "import math\n",
    "\n",
    "w2 = 1.2\n",
    "tmax = 55\n",
    "step = 0.05\n",
    "y0 = [0.2, -0.2]\n",
    "\n",
    "def W(y, t):\n",
    "    y1, y2 = y\n",
    "    return [y2, -w2*y1 ]\n",
    "\n",
    "t = np.arange( 0, tmax, step)\n",
    "w1 = odeint(W, y0, t)\n",
    "y11 = w1[:,0]\n",
    "y21 = w1[:,1]\n",
    "\n",
    "fig = plt.figure(facecolor='white')\n",
    "plt.plot(t, y11, linewidth=2)\n",
    "plt.ylabel(\"x\")\n",
    "plt.xlabel(\"t\")\n",
    "plt.grid(True)\n",
    "plt.show()\n",
    "fig.savefig('01.png', dpi = 600)\n",
    "\n",
    "fig2 = plt.figure(facecolor='white')\n",
    "plt.plot(y11, y21, linewidth=2)\n",
    "plt.ylabel(\"y\")\n",
    "plt.xlabel(\"x\")\n",
    "plt.grid(True)\n",
    "plt.show()\n",
    "fig2.savefig('02.png', dpi = 600)\n"
   ]
  },
  {
   "cell_type": "code",
   "execution_count": null,
   "id": "parental-syracuse",
   "metadata": {},
   "outputs": [],
   "source": [
    "w2 = 4.3\n",
    "g = 2\n",
    "\n",
    "\n",
    "def W(y, t):\n",
    "    y1, y2 = y\n",
    "    return [y2, -w2*y1 - g*y2 ]\n",
    "\n",
    "t = np.arange( 0, tmax, step)\n",
    "w1 = odeint(W, y0, t)\n",
    "y11 = w1[:,0]\n",
    "y21 = w1[:,1]\n",
    "\n",
    "fig = plt.figure(facecolor='white')\n",
    "plt.plot(t, y11, linewidth=2)\n",
    "plt.ylabel(\"x\")\n",
    "plt.xlabel(\"t\")\n",
    "plt.grid(True)\n",
    "plt.show()\n",
    "fig.savefig('03.png', dpi = 600)\n",
    "\n",
    "fig2 = plt.figure(facecolor='white')\n",
    "plt.plot(y11, y21, linewidth=2)\n",
    "plt.ylabel(\"y\")\n",
    "plt.xlabel(\"x\")\n",
    "plt.grid(True)\n",
    "plt.show()\n",
    "fig2.savefig('04.png', dpi = 600)\n"
   ]
  },
  {
   "cell_type": "code",
   "execution_count": 3,
   "id": "linear-gambling",
   "metadata": {},
   "outputs": [
    {
     "ename": "NameError",
     "evalue": "name 'np' is not defined",
     "output_type": "error",
     "traceback": [
      "\u001b[1;31m---------------------------------------------------------------------------\u001b[0m",
      "\u001b[1;31mNameError\u001b[0m                                 Traceback (most recent call last)",
      "\u001b[1;32m<ipython-input-3-7516fc8ce31d>\u001b[0m in \u001b[0;36m<module>\u001b[1;34m\u001b[0m\n\u001b[0;32m     10\u001b[0m     \u001b[1;32mreturn\u001b[0m \u001b[1;33m[\u001b[0m\u001b[0my2\u001b[0m\u001b[1;33m,\u001b[0m \u001b[1;33m-\u001b[0m\u001b[0mw2\u001b[0m\u001b[1;33m*\u001b[0m\u001b[0my1\u001b[0m \u001b[1;33m-\u001b[0m \u001b[0mg\u001b[0m\u001b[1;33m*\u001b[0m\u001b[0my2\u001b[0m \u001b[1;33m+\u001b[0m \u001b[0mf\u001b[0m\u001b[1;33m(\u001b[0m\u001b[0mt\u001b[0m\u001b[1;33m)\u001b[0m \u001b[1;33m]\u001b[0m\u001b[1;33m\u001b[0m\u001b[1;33m\u001b[0m\u001b[0m\n\u001b[0;32m     11\u001b[0m \u001b[1;33m\u001b[0m\u001b[0m\n\u001b[1;32m---> 12\u001b[1;33m \u001b[0mt\u001b[0m \u001b[1;33m=\u001b[0m \u001b[0mnp\u001b[0m\u001b[1;33m.\u001b[0m\u001b[0marange\u001b[0m\u001b[1;33m(\u001b[0m \u001b[1;36m0\u001b[0m\u001b[1;33m,\u001b[0m \u001b[0mtmax\u001b[0m\u001b[1;33m,\u001b[0m \u001b[0mstep\u001b[0m\u001b[1;33m)\u001b[0m\u001b[1;33m\u001b[0m\u001b[1;33m\u001b[0m\u001b[0m\n\u001b[0m\u001b[0;32m     13\u001b[0m \u001b[0mw1\u001b[0m \u001b[1;33m=\u001b[0m \u001b[0modeint\u001b[0m\u001b[1;33m(\u001b[0m\u001b[0mW\u001b[0m\u001b[1;33m,\u001b[0m \u001b[0my0\u001b[0m\u001b[1;33m,\u001b[0m \u001b[0mt\u001b[0m\u001b[1;33m)\u001b[0m\u001b[1;33m\u001b[0m\u001b[1;33m\u001b[0m\u001b[0m\n\u001b[0;32m     14\u001b[0m \u001b[0my11\u001b[0m \u001b[1;33m=\u001b[0m \u001b[0mw1\u001b[0m\u001b[1;33m[\u001b[0m\u001b[1;33m:\u001b[0m\u001b[1;33m,\u001b[0m\u001b[1;36m0\u001b[0m\u001b[1;33m]\u001b[0m\u001b[1;33m\u001b[0m\u001b[1;33m\u001b[0m\u001b[0m\n",
      "\u001b[1;31mNameError\u001b[0m: name 'np' is not defined"
     ]
    }
   ],
   "source": [
    "w2 = 7.5 \n",
    "g = 2.4\n",
    "\n",
    "def f(t): \n",
    "    f = 2.2*math.cos(0.6*t)\n",
    "    return f\n",
    "\n",
    "def W(y, t):\n",
    "    y1, y2 = y\n",
    "    return [y2, -w2*y1 - g*y2 + f(t) ]\n",
    "\n",
    "t = np.arange( 0, tmax, step)\n",
    "w1 = odeint(W, y0, t)\n",
    "y11 = w1[:,0]\n",
    "y21 = w1[:,1]\n",
    "\n",
    "fig = plt.figure(facecolor='white')\n",
    "plt.plot(t, y11, linewidth=2)\n",
    "plt.ylabel(\"x\")\n",
    "plt.xlabel(\"t\")\n",
    "plt.grid(True)\n",
    "plt.show()\n",
    "fig.savefig('05.png', dpi = 600)\n",
    "\n",
    "fig2 = plt.figure(facecolor='white')\n",
    "plt.plot(y11, y21, linewidth=2)\n",
    "plt.ylabel(\"y\")\n",
    "plt.xlabel(\"x\")\n",
    "plt.grid(True)\n",
    "plt.show()\n",
    "fig2.savefig('06.png', dpi = 600)\n"
   ]
  },
  {
   "cell_type": "code",
   "execution_count": null,
   "id": "sealed-desperate",
   "metadata": {},
   "outputs": [],
   "source": []
  }
 ],
 "metadata": {
  "kernelspec": {
   "display_name": "Python 3",
   "language": "python",
   "name": "python3"
  },
  "language_info": {
   "codemirror_mode": {
    "name": "ipython",
    "version": 3
   },
   "file_extension": ".py",
   "mimetype": "text/x-python",
   "name": "python",
   "nbconvert_exporter": "python",
   "pygments_lexer": "ipython3",
   "version": "3.9.2"
  }
 },
 "nbformat": 4,
 "nbformat_minor": 5
}
